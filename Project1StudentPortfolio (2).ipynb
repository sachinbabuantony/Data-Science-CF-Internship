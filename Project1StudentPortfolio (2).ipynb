{
 "cells": [
  {
   "cell_type": "markdown",
   "id": "843cd184",
   "metadata": {},
   "source": [
    "# STUDENT PORTFOLIO\n",
    "\n",
    "Defining Variables\n"
   ]
  },
  {
   "cell_type": "code",
   "execution_count": 43,
   "id": "7be9c1b6",
   "metadata": {},
   "outputs": [
    {
     "name": "stdout",
     "output_type": "stream",
     "text": [
      "First Name : Sachin\n",
      "Last Name : Babu Antony\n",
      "Class : 10\n",
      "Division : B\n",
      "Roll No. : 52\n",
      "Enter Subject 1 : Maths\n",
      "Enter Subject 2 : Science\n",
      "Enter Subject 3 : Malayalam\n",
      "Enter percentage : 96\n"
     ]
    }
   ],
   "source": [
    "FirstName = str(input(\"First Name : \"))\n",
    "LastName = str(input(\"Last Name : \"))\n",
    "Std = int(input(\"Class : \"))\n",
    "Division = str(input(\"Division : \"))\n",
    "RollNumber = int(input(\"Roll No. : \"))\n",
    "Subject1 = str(input(\"Enter Subject 1 : \"))\n",
    "Subject2 = str(input(\"Enter Subject 2 : \"))\n",
    "Subject3 = str(input(\"Enter Subject 3 : \"))\n",
    "Percentage = float(input(\"Enter percentage : \"))"
   ]
  },
  {
   "cell_type": "markdown",
   "id": "9864940e",
   "metadata": {},
   "source": [
    "Printing Portfolio"
   ]
  },
  {
   "cell_type": "code",
   "execution_count": 47,
   "id": "8bec153a",
   "metadata": {},
   "outputs": [
    {
     "name": "stdout",
     "output_type": "stream",
     "text": [
      "-------------------------\n",
      "Student Details\n",
      "-------------------------\n",
      "Name: SACHIN BABU ANTONY\n",
      "Class: 10\n",
      "Division: B\n",
      "Roll No: 52\n",
      "\n",
      "-------------------------\n",
      "Subjects Enrolled\n",
      "-------------------------\n",
      "Subject 1: MATHS\n",
      "Subject 2: SCIENCE\n",
      "Subject 3: MALAYALAM\n",
      "\n",
      "-------------------------\n",
      "Marks obtained\n",
      "-------------------------\n",
      "SACHIN BABU ANTONY has scored an overall of 96.0% in the final test\n",
      "\n",
      "-----END-----\n"
     ]
    }
   ],
   "source": [
    "print(\"-\"*25)\n",
    "print(\"Student Details\")\n",
    "print(\"-\"*25)\n",
    "print(\"Name: \" + FirstName.upper() + \" \" + LastName.upper())\n",
    "print(\"Class: \" + str(Std))\n",
    "print(\"Division: \" + Division)\n",
    "print(\"Roll No: \" + str(RollNumber) + \"\\n\")\n",
    "print(\"-\"*25)\n",
    "print(\"Subjects Enrolled\")\n",
    "print(\"-\"*25)\n",
    "print(\"Subject 1: \" + Subject1.upper())\n",
    "print(\"Subject 2: \" + Subject2.upper())\n",
    "print(\"Subject 3: \" + Subject3.upper() + \"\\n\")\n",
    "print(\"-\"*25)\n",
    "print(\"Marks obtained\")\n",
    "print(\"-\"*25)\n",
    "print(FirstName.upper() + \" \" + LastName.upper() + \" has scored an overall of \" + str(Percentage) + \"% in the final test\" \"\\n\")\n",
    "print(\"-----END-----\")"
   ]
  },
  {
   "cell_type": "code",
   "execution_count": null,
   "id": "2f94f174",
   "metadata": {},
   "outputs": [],
   "source": []
  }
 ],
 "metadata": {
  "kernelspec": {
   "display_name": "Python 3",
   "language": "python",
   "name": "python3"
  },
  "language_info": {
   "codemirror_mode": {
    "name": "ipython",
    "version": 3
   },
   "file_extension": ".py",
   "mimetype": "text/x-python",
   "name": "python",
   "nbconvert_exporter": "python",
   "pygments_lexer": "ipython3",
   "version": "3.8.8"
  }
 },
 "nbformat": 4,
 "nbformat_minor": 5
}
